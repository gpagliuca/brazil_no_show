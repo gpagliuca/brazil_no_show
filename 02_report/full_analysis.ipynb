{
 "cells": [
  {
   "cell_type": "markdown",
   "id": "569f23be-3ba1-484f-bd89-dcb88950dfd9",
   "metadata": {},
   "source": [
    "# Imports and functions"
   ]
  },
  {
   "cell_type": "code",
   "execution_count": 48,
   "id": "e79ccabf-0f5b-4651-8659-d0c551797234",
   "metadata": {},
   "outputs": [],
   "source": [
    "import pandas as pd\n",
    "import matplotlib.pyplot as plt\n",
    "import plotly.express as px\n",
    "import plotly.io as pio\n",
    "pio.renderers.default = \"iframe\"\n",
    "\n",
    "def no_show_average(feature, data):\n",
    "    \"\"\"\n",
    "    It returns the average of the no-show occurrence and the number of events per feature \n",
    "    \"\"\"\n",
    "    avgs = {var:100*data[data[feature] == var].no_show.mean() for var in set(data[feature])}\n",
    "    count = {var:100*data[data[feature] == var].no_show.count() for var in set(data[feature])}\n",
    "    df = pd.DataFrame(index=avgs.keys())\n",
    "    df.index.name = feature\n",
    "    df['No show average [%]'.format(feature)] = avgs.values()\n",
    "    df['Count'] = count.values()\n",
    "    return df.round(2)\n",
    "\n",
    "def single_feature_impact(feature, data):\n",
    "    fig = px.histogram(data,\n",
    "                       y = 'no_show',\n",
    "                       histnorm = 'percent',\n",
    "                       orientation='h',\n",
    "                       width=800,\n",
    "                       height=300,\n",
    "                       color=feature,\n",
    "                       barmode='group',\n",
    "                       title=f\"Show/No show percentages by: {feature}\".title(),\n",
    "                       labels={'no_show': 'No show rate'}\n",
    "                      )\n",
    "    fig.show()"
   ]
  },
  {
   "cell_type": "markdown",
   "id": "97e6e7fe-a187-427f-b236-addaa8f7c293",
   "metadata": {},
   "source": [
    "# Introduction"
   ]
  },
  {
   "cell_type": "markdown",
   "id": "0e4a3d28-5948-4ed8-a7e2-30bb962db2d3",
   "metadata": {},
   "source": [
    "Aim of this notebook is to summarize and document the analysis done for the dataset contained in the csv file `noshowappointments-kagglev2-may-2016.csv`. This notebook contains all the most relevant findings while more details can be found in [project github repository](https://github.com/gpagliuca/soccer.git). "
   ]
  },
  {
   "cell_type": "markdown",
   "id": "d05b9b70-3aa5-4eb5-a3db-04387448f4ee",
   "metadata": {},
   "source": [
    "The following information was available together with the data:\n",
    "\n",
    "> This dataset collects information from 100k medical appointments in Brazil and is focused on the question of whether or not patients show up for their appointment. A number of characteristics about the patient are included in each row.\n",
    "> \n",
    "> * __ScheduledDay__ tells us on what day the patient set up their appointment.\n",
    "> * __Neighborhood__ indicates the location of the hospital.\n",
    "> * __Scholarship__ indicates whether or not the patient is enrolled in Brasilian welfare program Bolsa Família.\n",
    "> * Be careful about the encoding of the last column: it says ‘No’ if the patient showed up to their appointment, and ‘Yes’ if they did not show up."
   ]
  },
  {
   "cell_type": "markdown",
   "id": "bdf81922-2dc9-427c-82d8-506c67f63d31",
   "metadata": {},
   "source": [
    "## Typical questions"
   ]
  },
  {
   "cell_type": "markdown",
   "id": "15e064f4-030c-4c5e-8329-a1649f6a1bb6",
   "metadata": {},
   "source": [
    "1. What factors are important for us to know in order to predict if a patient will show up for their scheduled appointment?\n",
    "2. How many appointments per patient on average\n",
    "3. What are the main limitations in the dataset?"
   ]
  },
  {
   "cell_type": "markdown",
   "id": "00f085f1-16a6-42fe-9855-409881342968",
   "metadata": {},
   "source": [
    "# Data loading and cleaning"
   ]
  },
  {
   "cell_type": "code",
   "execution_count": 2,
   "id": "86dc8029-4ba2-46e5-a6c7-64a65efcb85d",
   "metadata": {},
   "outputs": [
    {
     "data": {
      "text/html": [
       "<div>\n",
       "<style scoped>\n",
       "    .dataframe tbody tr th:only-of-type {\n",
       "        vertical-align: middle;\n",
       "    }\n",
       "\n",
       "    .dataframe tbody tr th {\n",
       "        vertical-align: top;\n",
       "    }\n",
       "\n",
       "    .dataframe thead th {\n",
       "        text-align: right;\n",
       "    }\n",
       "</style>\n",
       "<table border=\"1\" class=\"dataframe\">\n",
       "  <thead>\n",
       "    <tr style=\"text-align: right;\">\n",
       "      <th></th>\n",
       "      <th>PatientId</th>\n",
       "      <th>AppointmentID</th>\n",
       "      <th>Gender</th>\n",
       "      <th>ScheduledDay</th>\n",
       "      <th>AppointmentDay</th>\n",
       "      <th>Age</th>\n",
       "      <th>Neighbourhood</th>\n",
       "      <th>Scholarship</th>\n",
       "      <th>Hipertension</th>\n",
       "      <th>Diabetes</th>\n",
       "      <th>Alcoholism</th>\n",
       "      <th>Handcap</th>\n",
       "      <th>SMS_received</th>\n",
       "      <th>No-show</th>\n",
       "    </tr>\n",
       "  </thead>\n",
       "  <tbody>\n",
       "    <tr>\n",
       "      <th>0</th>\n",
       "      <td>2.987250e+13</td>\n",
       "      <td>5642903</td>\n",
       "      <td>F</td>\n",
       "      <td>2016-04-29T18:38:08Z</td>\n",
       "      <td>2016-04-29T00:00:00Z</td>\n",
       "      <td>62</td>\n",
       "      <td>JARDIM DA PENHA</td>\n",
       "      <td>0</td>\n",
       "      <td>1</td>\n",
       "      <td>0</td>\n",
       "      <td>0</td>\n",
       "      <td>0</td>\n",
       "      <td>0</td>\n",
       "      <td>No</td>\n",
       "    </tr>\n",
       "    <tr>\n",
       "      <th>1</th>\n",
       "      <td>5.589978e+14</td>\n",
       "      <td>5642503</td>\n",
       "      <td>M</td>\n",
       "      <td>2016-04-29T16:08:27Z</td>\n",
       "      <td>2016-04-29T00:00:00Z</td>\n",
       "      <td>56</td>\n",
       "      <td>JARDIM DA PENHA</td>\n",
       "      <td>0</td>\n",
       "      <td>0</td>\n",
       "      <td>0</td>\n",
       "      <td>0</td>\n",
       "      <td>0</td>\n",
       "      <td>0</td>\n",
       "      <td>No</td>\n",
       "    </tr>\n",
       "  </tbody>\n",
       "</table>\n",
       "</div>"
      ],
      "text/plain": [
       "      PatientId  AppointmentID Gender          ScheduledDay  \\\n",
       "0  2.987250e+13        5642903      F  2016-04-29T18:38:08Z   \n",
       "1  5.589978e+14        5642503      M  2016-04-29T16:08:27Z   \n",
       "\n",
       "         AppointmentDay  Age    Neighbourhood  Scholarship  Hipertension  \\\n",
       "0  2016-04-29T00:00:00Z   62  JARDIM DA PENHA            0             1   \n",
       "1  2016-04-29T00:00:00Z   56  JARDIM DA PENHA            0             0   \n",
       "\n",
       "   Diabetes  Alcoholism  Handcap  SMS_received No-show  \n",
       "0         0           0        0             0      No  \n",
       "1         0           0        0             0      No  "
      ]
     },
     "execution_count": 2,
     "metadata": {},
     "output_type": "execute_result"
    }
   ],
   "source": [
    "df = pd.read_csv('../00_data/noshowappointments-kagglev2-may-2016.csv')\n",
    "df.head(2)"
   ]
  },
  {
   "cell_type": "markdown",
   "id": "7169b181-646d-466e-8198-8e810fea3411",
   "metadata": {},
   "source": [
    "## First considerations"
   ]
  },
  {
   "cell_type": "markdown",
   "id": "7f991769-e6e4-4355-921f-509b530e87d6",
   "metadata": {},
   "source": [
    "Using the `shape`, `info`, `describe` and `duplicated` properties it is possible to determine that:\n",
    "\n",
    "* The original dataset contains 110527 rows and 14 columns\n",
    "* Depending on the feature the data type is either string, float or integer\n",
    "* There are no duplicates\n",
    "* No NA values either\n",
    "* There are 110527 __appointments__ but only 62299 __patients__: some patients had multiple appointments\n",
    "* The minimum __age__ is -1, the maximum one is 115\n",
    "* __Gender__, __Scholarship__, __Hipertension__, __Diabetes__, __Alcoholism__ and __No-Show__ are all binary features\n",
    "* __Handcap__ ranges from 0 to 4"
   ]
  },
  {
   "cell_type": "markdown",
   "id": "517f661f-7408-437a-bbc9-452ddb6cff58",
   "metadata": {},
   "source": [
    "## Dataset modifications"
   ]
  },
  {
   "cell_type": "markdown",
   "id": "2fdd9154-febf-4c9f-8325-7637c75e233a",
   "metadata": {},
   "source": [
    "To better evaluate the dataset some changes have been applied:\n",
    "\n",
    "* The `AppointmentDay` column is redundant (info already contained in `ScheduledDay`)\n",
    "* `ScheduledDay` has been transformed in pandas datetime objects\n",
    "* The original `No-show` feature has been transformed in a boolean\n",
    "* A new feature called `health_index` has been created adding up the `Hipertension`, `Diabetes` and `Alcoholism`. \n",
    "* Negative age(s) have been replaced with zero(s)\n",
    "* `Age` has been grouped in:  \n",
    "    a. `Young` (below 20)  \n",
    "    b. `Adults` (between 20 and 70)  \n",
    "    c. `Elderly` (above 20)  \n",
    "* Finally the `weekday` and the `morning` features have been created from the `ScheduledDay` one"
   ]
  },
  {
   "cell_type": "code",
   "execution_count": 3,
   "id": "88baae4c-1d3b-4265-95ba-a21e626a879c",
   "metadata": {},
   "outputs": [
    {
     "data": {
      "text/html": [
       "<div>\n",
       "<style scoped>\n",
       "    .dataframe tbody tr th:only-of-type {\n",
       "        vertical-align: middle;\n",
       "    }\n",
       "\n",
       "    .dataframe tbody tr th {\n",
       "        vertical-align: top;\n",
       "    }\n",
       "\n",
       "    .dataframe thead th {\n",
       "        text-align: right;\n",
       "    }\n",
       "</style>\n",
       "<table border=\"1\" class=\"dataframe\">\n",
       "  <thead>\n",
       "    <tr style=\"text-align: right;\">\n",
       "      <th></th>\n",
       "      <th>PatientId</th>\n",
       "      <th>AppointmentID</th>\n",
       "      <th>Gender</th>\n",
       "      <th>ScheduledDay</th>\n",
       "      <th>Age</th>\n",
       "      <th>Neighbourhood</th>\n",
       "      <th>Scholarship</th>\n",
       "      <th>Hipertension</th>\n",
       "      <th>Diabetes</th>\n",
       "      <th>Alcoholism</th>\n",
       "      <th>Handcap</th>\n",
       "      <th>SMS_received</th>\n",
       "      <th>no_show</th>\n",
       "      <th>health_index</th>\n",
       "      <th>age_grouped</th>\n",
       "      <th>weekday</th>\n",
       "      <th>morning</th>\n",
       "    </tr>\n",
       "  </thead>\n",
       "  <tbody>\n",
       "    <tr>\n",
       "      <th>0</th>\n",
       "      <td>2.987250e+13</td>\n",
       "      <td>5642903</td>\n",
       "      <td>F</td>\n",
       "      <td>2016-04-29 18:38:08+00:00</td>\n",
       "      <td>62</td>\n",
       "      <td>JARDIM DA PENHA</td>\n",
       "      <td>False</td>\n",
       "      <td>True</td>\n",
       "      <td>False</td>\n",
       "      <td>False</td>\n",
       "      <td>False</td>\n",
       "      <td>False</td>\n",
       "      <td>False</td>\n",
       "      <td>1</td>\n",
       "      <td>Adults</td>\n",
       "      <td>4</td>\n",
       "      <td>False</td>\n",
       "    </tr>\n",
       "    <tr>\n",
       "      <th>1</th>\n",
       "      <td>5.589978e+14</td>\n",
       "      <td>5642503</td>\n",
       "      <td>M</td>\n",
       "      <td>2016-04-29 16:08:27+00:00</td>\n",
       "      <td>56</td>\n",
       "      <td>JARDIM DA PENHA</td>\n",
       "      <td>False</td>\n",
       "      <td>False</td>\n",
       "      <td>False</td>\n",
       "      <td>False</td>\n",
       "      <td>False</td>\n",
       "      <td>False</td>\n",
       "      <td>False</td>\n",
       "      <td>0</td>\n",
       "      <td>Adults</td>\n",
       "      <td>4</td>\n",
       "      <td>False</td>\n",
       "    </tr>\n",
       "  </tbody>\n",
       "</table>\n",
       "</div>"
      ],
      "text/plain": [
       "      PatientId  AppointmentID Gender              ScheduledDay  Age  \\\n",
       "0  2.987250e+13        5642903      F 2016-04-29 18:38:08+00:00   62   \n",
       "1  5.589978e+14        5642503      M 2016-04-29 16:08:27+00:00   56   \n",
       "\n",
       "     Neighbourhood  Scholarship  Hipertension  Diabetes  Alcoholism Handcap  \\\n",
       "0  JARDIM DA PENHA        False          True     False       False   False   \n",
       "1  JARDIM DA PENHA        False         False     False       False   False   \n",
       "\n",
       "   SMS_received  no_show  health_index age_grouped  weekday  morning  \n",
       "0         False    False             1      Adults        4    False  \n",
       "1         False    False             0      Adults        4    False  "
      ]
     },
     "execution_count": 3,
     "metadata": {},
     "output_type": "execute_result"
    }
   ],
   "source": [
    "## Changes to the original dataset\n",
    "\n",
    "# Drop AppointmentDay since it is redundant\n",
    "df_mod = df.drop('AppointmentDay', axis=1)\n",
    "# Switch to datetime\n",
    "df_mod['ScheduledDay'] = pd.to_datetime(df_mod['ScheduledDay'])\n",
    "# Replace No-show with a boolean\n",
    "df_mod['no_show'] = df_mod['No-show'] == 'Yes'\n",
    "df_mod.drop('No-show', axis=1, inplace=True)\n",
    "# Create a health index\n",
    "df_mod['health_index'] = df_mod['Hipertension'] + df_mod['Diabetes'] + df_mod['Alcoholism']\n",
    "# Replace negative ages with zero\n",
    "s = df_mod['Age'].copy()\n",
    "s[s < 0] = 0\n",
    "df_mod['Age'] = s\n",
    "# Group by age\n",
    "df_mod['age_grouped']  = pd.cut(df_mod['Age'], [-1, 20, 70, df_mod['Age'].max()+1], labels=['Young', 'Adults', 'Elderly'])\n",
    "# Add weekday\n",
    "df_mod['weekday'] = [d.weekday() for d in df_mod['ScheduledDay']]\n",
    "# Add morning\n",
    "df_mod['morning'] = [True if d.hour<=12 else False for d in df_mod['ScheduledDay'] ]\n",
    "\n",
    "# Replacing zeros and ones for plotting esthetics\n",
    "for feature in df.columns[6:13]:\n",
    "    df_mod[feature].replace([0, 1], [False, True], inplace=True)\n",
    "\n",
    "df_mod.head(2)"
   ]
  },
  {
   "cell_type": "markdown",
   "id": "4e17e055-8ec3-431f-97c3-3e34eeb68f8f",
   "metadata": {},
   "source": [
    "# Impact of a single feature on the no-show rate "
   ]
  },
  {
   "cell_type": "markdown",
   "id": "fab8311a-727c-4d0f-b64c-96748f6eaecb",
   "metadata": {},
   "source": [
    "On average on the whole dataset thew no show rate is slightly bigger than 20% like shown in the plot below:"
   ]
  },
  {
   "cell_type": "code",
   "execution_count": 28,
   "id": "59f15e0c-0b99-4366-9d6d-11004fb67dbb",
   "metadata": {},
   "outputs": [
    {
     "data": {
      "text/html": [
       "<iframe\n",
       "    scrolling=\"no\"\n",
       "    width=\"820px\"\n",
       "    height=\"270\"\n",
       "    src=\"iframe_figures/figure_28.html\"\n",
       "    frameborder=\"0\"\n",
       "    allowfullscreen\n",
       "></iframe>\n"
      ]
     },
     "metadata": {},
     "output_type": "display_data"
    }
   ],
   "source": [
    "fig = px.histogram(df_mod,\n",
    "                   y = 'no_show',\n",
    "                   histnorm = 'percent',\n",
    "                   orientation='h',\n",
    "                   width=800,\n",
    "                   height=250,\n",
    "                   title='Overall no-show rate',\n",
    "                   labels={'no_show': 'No show rate'}\n",
    "                  )\n",
    "\n",
    "fig.show()"
   ]
  },
  {
   "cell_type": "markdown",
   "id": "ac0db72b-6b46-459c-9b1b-2c0a403921bd",
   "metadata": {},
   "source": [
    "The impact of each feature on the no-show occurrence has been evaluated. The most relevant features are reported below:"
   ]
  },
  {
   "cell_type": "markdown",
   "id": "7dadc863-c356-4c36-9039-9e1c2742b56c",
   "metadata": {},
   "source": [
    "## Scholarship"
   ]
  },
  {
   "cell_type": "markdown",
   "id": "3a452bec-bf98-46d3-82aa-2ae02474f9aa",
   "metadata": {},
   "source": [
    "Patients who were part of the Bolsa Família program seems to have a slightly higher no-show occurrence rate."
   ]
  },
  {
   "cell_type": "code",
   "execution_count": 32,
   "id": "960f5362-2c55-432f-a47e-b6bffaed3e71",
   "metadata": {},
   "outputs": [
    {
     "data": {
      "text/html": [
       "<div>\n",
       "<style scoped>\n",
       "    .dataframe tbody tr th:only-of-type {\n",
       "        vertical-align: middle;\n",
       "    }\n",
       "\n",
       "    .dataframe tbody tr th {\n",
       "        vertical-align: top;\n",
       "    }\n",
       "\n",
       "    .dataframe thead th {\n",
       "        text-align: right;\n",
       "    }\n",
       "</style>\n",
       "<table border=\"1\" class=\"dataframe\">\n",
       "  <thead>\n",
       "    <tr style=\"text-align: right;\">\n",
       "      <th></th>\n",
       "      <th>No show average [%]</th>\n",
       "      <th>Count</th>\n",
       "    </tr>\n",
       "    <tr>\n",
       "      <th>Scholarship</th>\n",
       "      <th></th>\n",
       "      <th></th>\n",
       "    </tr>\n",
       "  </thead>\n",
       "  <tbody>\n",
       "    <tr>\n",
       "      <th>False</th>\n",
       "      <td>19.81</td>\n",
       "      <td>9966600</td>\n",
       "    </tr>\n",
       "    <tr>\n",
       "      <th>True</th>\n",
       "      <td>23.74</td>\n",
       "      <td>1086100</td>\n",
       "    </tr>\n",
       "  </tbody>\n",
       "</table>\n",
       "</div>"
      ],
      "text/plain": [
       "             No show average [%]    Count\n",
       "Scholarship                              \n",
       "False                      19.81  9966600\n",
       "True                       23.74  1086100"
      ]
     },
     "execution_count": 32,
     "metadata": {},
     "output_type": "execute_result"
    }
   ],
   "source": [
    "no_show_average('Scholarship', df_mod)"
   ]
  },
  {
   "cell_type": "code",
   "execution_count": 49,
   "id": "2762f39d-ff41-48bc-bdea-58de10294a01",
   "metadata": {},
   "outputs": [
    {
     "data": {
      "text/html": [
       "<iframe\n",
       "    scrolling=\"no\"\n",
       "    width=\"820px\"\n",
       "    height=\"320\"\n",
       "    src=\"iframe_figures/figure_49.html\"\n",
       "    frameborder=\"0\"\n",
       "    allowfullscreen\n",
       "></iframe>\n"
      ]
     },
     "metadata": {},
     "output_type": "display_data"
    }
   ],
   "source": [
    "single_feature_impact('Scholarship', df_mod)"
   ]
  },
  {
   "cell_type": "markdown",
   "id": "db931e71-f4ce-42ed-b1c0-0a0faeb99597",
   "metadata": {},
   "source": [
    "## SMS received"
   ]
  },
  {
   "cell_type": "markdown",
   "id": "4c81c252-094b-4924-a97c-f36d443d150c",
   "metadata": {},
   "source": [
    "Apparently receiving a reminder via SMS increases the chances of a no-show. This counterintuitive conclusion should be studied better."
   ]
  },
  {
   "cell_type": "code",
   "execution_count": 50,
   "id": "aab931a4-b280-4c4f-ba93-d85919497553",
   "metadata": {},
   "outputs": [
    {
     "data": {
      "text/html": [
       "<div>\n",
       "<style scoped>\n",
       "    .dataframe tbody tr th:only-of-type {\n",
       "        vertical-align: middle;\n",
       "    }\n",
       "\n",
       "    .dataframe tbody tr th {\n",
       "        vertical-align: top;\n",
       "    }\n",
       "\n",
       "    .dataframe thead th {\n",
       "        text-align: right;\n",
       "    }\n",
       "</style>\n",
       "<table border=\"1\" class=\"dataframe\">\n",
       "  <thead>\n",
       "    <tr style=\"text-align: right;\">\n",
       "      <th></th>\n",
       "      <th>No show average [%]</th>\n",
       "      <th>Count</th>\n",
       "    </tr>\n",
       "    <tr>\n",
       "      <th>SMS_received</th>\n",
       "      <th></th>\n",
       "      <th></th>\n",
       "    </tr>\n",
       "  </thead>\n",
       "  <tbody>\n",
       "    <tr>\n",
       "      <th>False</th>\n",
       "      <td>16.70</td>\n",
       "      <td>7504500</td>\n",
       "    </tr>\n",
       "    <tr>\n",
       "      <th>True</th>\n",
       "      <td>27.57</td>\n",
       "      <td>3548200</td>\n",
       "    </tr>\n",
       "  </tbody>\n",
       "</table>\n",
       "</div>"
      ],
      "text/plain": [
       "              No show average [%]    Count\n",
       "SMS_received                              \n",
       "False                       16.70  7504500\n",
       "True                        27.57  3548200"
      ]
     },
     "execution_count": 50,
     "metadata": {},
     "output_type": "execute_result"
    }
   ],
   "source": [
    "no_show_average('SMS_received', df_mod)"
   ]
  },
  {
   "cell_type": "code",
   "execution_count": 51,
   "id": "f6b58979-65b7-4471-a631-72fed6f81995",
   "metadata": {},
   "outputs": [
    {
     "data": {
      "text/html": [
       "<iframe\n",
       "    scrolling=\"no\"\n",
       "    width=\"820px\"\n",
       "    height=\"320\"\n",
       "    src=\"iframe_figures/figure_51.html\"\n",
       "    frameborder=\"0\"\n",
       "    allowfullscreen\n",
       "></iframe>\n"
      ]
     },
     "metadata": {},
     "output_type": "display_data"
    }
   ],
   "source": [
    "single_feature_impact('SMS_received', df_mod)"
   ]
  },
  {
   "cell_type": "markdown",
   "id": "1509adcd-cbc4-435c-bea1-06ca0b3fad78",
   "metadata": {},
   "source": [
    "## Weekday"
   ]
  },
  {
   "cell_type": "markdown",
   "id": "cc8ca2ec-24d9-466e-8ac0-307f28395b6d",
   "metadata": {},
   "source": [
    "The weekday of the appointment makes little impact on the no-show rate. An exception is represented by Saturdays: in these days the no-show rate drops to only 4.17%. It is useful to underline, though, that the number of appointments organized on Saturdays is 3 orders of magnitude less than the other days of the week."
   ]
  },
  {
   "cell_type": "code",
   "execution_count": 52,
   "id": "fd567d24-440c-49c3-9902-519d34c67e86",
   "metadata": {},
   "outputs": [
    {
     "data": {
      "text/html": [
       "<div>\n",
       "<style scoped>\n",
       "    .dataframe tbody tr th:only-of-type {\n",
       "        vertical-align: middle;\n",
       "    }\n",
       "\n",
       "    .dataframe tbody tr th {\n",
       "        vertical-align: top;\n",
       "    }\n",
       "\n",
       "    .dataframe thead th {\n",
       "        text-align: right;\n",
       "    }\n",
       "</style>\n",
       "<table border=\"1\" class=\"dataframe\">\n",
       "  <thead>\n",
       "    <tr style=\"text-align: right;\">\n",
       "      <th></th>\n",
       "      <th>No show average [%]</th>\n",
       "      <th>Count</th>\n",
       "    </tr>\n",
       "  </thead>\n",
       "  <tbody>\n",
       "    <tr>\n",
       "      <th>Mon</th>\n",
       "      <td>19.76</td>\n",
       "      <td>2308500</td>\n",
       "    </tr>\n",
       "    <tr>\n",
       "      <th>Tue</th>\n",
       "      <td>20.22</td>\n",
       "      <td>2616800</td>\n",
       "    </tr>\n",
       "    <tr>\n",
       "      <th>Wed</th>\n",
       "      <td>20.11</td>\n",
       "      <td>2426200</td>\n",
       "    </tr>\n",
       "    <tr>\n",
       "      <th>Thu</th>\n",
       "      <td>20.47</td>\n",
       "      <td>1807300</td>\n",
       "    </tr>\n",
       "    <tr>\n",
       "      <th>Fri</th>\n",
       "      <td>20.55</td>\n",
       "      <td>1891500</td>\n",
       "    </tr>\n",
       "    <tr>\n",
       "      <th>Sat</th>\n",
       "      <td>4.17</td>\n",
       "      <td>2400</td>\n",
       "    </tr>\n",
       "  </tbody>\n",
       "</table>\n",
       "</div>"
      ],
      "text/plain": [
       "     No show average [%]    Count\n",
       "Mon                19.76  2308500\n",
       "Tue                20.22  2616800\n",
       "Wed                20.11  2426200\n",
       "Thu                20.47  1807300\n",
       "Fri                20.55  1891500\n",
       "Sat                 4.17     2400"
      ]
     },
     "execution_count": 52,
     "metadata": {},
     "output_type": "execute_result"
    }
   ],
   "source": [
    "weekday_df = no_show_average('weekday', df_mod)\n",
    "weekday_df.index = ['Mon', 'Tue', 'Wed', 'Thu', 'Fri', 'Sat']\n",
    "weekday_df"
   ]
  },
  {
   "cell_type": "code",
   "execution_count": 53,
   "id": "f1c8323d-092a-4695-ba69-6153048fddde",
   "metadata": {},
   "outputs": [
    {
     "data": {
      "text/html": [
       "<iframe\n",
       "    scrolling=\"no\"\n",
       "    width=\"820px\"\n",
       "    height=\"320\"\n",
       "    src=\"iframe_figures/figure_53.html\"\n",
       "    frameborder=\"0\"\n",
       "    allowfullscreen\n",
       "></iframe>\n"
      ]
     },
     "metadata": {},
     "output_type": "display_data"
    }
   ],
   "source": [
    "single_feature_impact('weekday', df_mod)"
   ]
  },
  {
   "cell_type": "markdown",
   "id": "ead4e129-68ec-4081-9958-c1a9732f0469",
   "metadata": {},
   "source": [
    "## Age (grouped)"
   ]
  },
  {
   "cell_type": "markdown",
   "id": "b7316064-0e32-41c3-b679-de38549e610c",
   "metadata": {},
   "source": [
    "Young patients have a higher no-show rate."
   ]
  },
  {
   "cell_type": "code",
   "execution_count": 54,
   "id": "56c74995-5ae0-455e-870a-5aaec3771bf7",
   "metadata": {},
   "outputs": [
    {
     "data": {
      "text/html": [
       "<div>\n",
       "<style scoped>\n",
       "    .dataframe tbody tr th:only-of-type {\n",
       "        vertical-align: middle;\n",
       "    }\n",
       "\n",
       "    .dataframe tbody tr th {\n",
       "        vertical-align: top;\n",
       "    }\n",
       "\n",
       "    .dataframe thead th {\n",
       "        text-align: right;\n",
       "    }\n",
       "</style>\n",
       "<table border=\"1\" class=\"dataframe\">\n",
       "  <thead>\n",
       "    <tr style=\"text-align: right;\">\n",
       "      <th></th>\n",
       "      <th>No show average [%]</th>\n",
       "      <th>Count</th>\n",
       "    </tr>\n",
       "    <tr>\n",
       "      <th>age_grouped</th>\n",
       "      <th></th>\n",
       "      <th></th>\n",
       "    </tr>\n",
       "  </thead>\n",
       "  <tbody>\n",
       "    <tr>\n",
       "      <th>Young</th>\n",
       "      <td>22.28</td>\n",
       "      <td>3184900</td>\n",
       "    </tr>\n",
       "    <tr>\n",
       "      <th>Elderly</th>\n",
       "      <td>15.84</td>\n",
       "      <td>857300</td>\n",
       "    </tr>\n",
       "    <tr>\n",
       "      <th>Adults</th>\n",
       "      <td>19.78</td>\n",
       "      <td>7010500</td>\n",
       "    </tr>\n",
       "  </tbody>\n",
       "</table>\n",
       "</div>"
      ],
      "text/plain": [
       "             No show average [%]    Count\n",
       "age_grouped                              \n",
       "Young                      22.28  3184900\n",
       "Elderly                    15.84   857300\n",
       "Adults                     19.78  7010500"
      ]
     },
     "execution_count": 54,
     "metadata": {},
     "output_type": "execute_result"
    }
   ],
   "source": [
    "no_show_average('age_grouped', df_mod)"
   ]
  },
  {
   "cell_type": "code",
   "execution_count": 55,
   "id": "4320ca92-4dd0-4052-9e10-b2878b7e0585",
   "metadata": {},
   "outputs": [
    {
     "data": {
      "text/html": [
       "<iframe\n",
       "    scrolling=\"no\"\n",
       "    width=\"820px\"\n",
       "    height=\"320\"\n",
       "    src=\"iframe_figures/figure_55.html\"\n",
       "    frameborder=\"0\"\n",
       "    allowfullscreen\n",
       "></iframe>\n"
      ]
     },
     "metadata": {},
     "output_type": "display_data"
    }
   ],
   "source": [
    "single_feature_impact('age_grouped', df_mod)"
   ]
  },
  {
   "cell_type": "markdown",
   "id": "9492b2c0-75ef-4e5c-bc53-651c68b50b89",
   "metadata": {},
   "source": [
    "## Neighbourhood"
   ]
  },
  {
   "cell_type": "markdown",
   "id": "1e02ac70-d3d5-4bf5-be21-eac0c3da8ec7",
   "metadata": {},
   "source": [
    "The two tables below report the top and bottom 5 neighborhoods in terms of no-show rate. If we exclude the first and the last ones (characterized by a very limited number of appointments) the no show rate is comprised between 8.57 and 28.92 %.  \n",
    "The full detail is reported in the plot below."
   ]
  },
  {
   "cell_type": "code",
   "execution_count": 56,
   "id": "67f041db-e62c-4c55-990a-e865d25f91f8",
   "metadata": {},
   "outputs": [
    {
     "data": {
      "text/html": [
       "<div>\n",
       "<style scoped>\n",
       "    .dataframe tbody tr th:only-of-type {\n",
       "        vertical-align: middle;\n",
       "    }\n",
       "\n",
       "    .dataframe tbody tr th {\n",
       "        vertical-align: top;\n",
       "    }\n",
       "\n",
       "    .dataframe thead th {\n",
       "        text-align: right;\n",
       "    }\n",
       "</style>\n",
       "<table border=\"1\" class=\"dataframe\">\n",
       "  <thead>\n",
       "    <tr style=\"text-align: right;\">\n",
       "      <th></th>\n",
       "      <th>No show average [%]</th>\n",
       "      <th>Count</th>\n",
       "    </tr>\n",
       "    <tr>\n",
       "      <th>Neighbourhood</th>\n",
       "      <th></th>\n",
       "      <th></th>\n",
       "    </tr>\n",
       "  </thead>\n",
       "  <tbody>\n",
       "    <tr>\n",
       "      <th>ILHAS OCEÂNICAS DE TRINDADE</th>\n",
       "      <td>100.00</td>\n",
       "      <td>200</td>\n",
       "    </tr>\n",
       "    <tr>\n",
       "      <th>SANTOS DUMONT</th>\n",
       "      <td>28.92</td>\n",
       "      <td>127600</td>\n",
       "    </tr>\n",
       "    <tr>\n",
       "      <th>SANTA CECÍLIA</th>\n",
       "      <td>27.46</td>\n",
       "      <td>44800</td>\n",
       "    </tr>\n",
       "    <tr>\n",
       "      <th>SANTA CLARA</th>\n",
       "      <td>26.48</td>\n",
       "      <td>50600</td>\n",
       "    </tr>\n",
       "    <tr>\n",
       "      <th>ITARARÉ</th>\n",
       "      <td>26.27</td>\n",
       "      <td>351400</td>\n",
       "    </tr>\n",
       "  </tbody>\n",
       "</table>\n",
       "</div>"
      ],
      "text/plain": [
       "                             No show average [%]   Count\n",
       "Neighbourhood                                           \n",
       "ILHAS OCEÂNICAS DE TRINDADE               100.00     200\n",
       "SANTOS DUMONT                              28.92  127600\n",
       "SANTA CECÍLIA                              27.46   44800\n",
       "SANTA CLARA                                26.48   50600\n",
       "ITARARÉ                                    26.27  351400"
      ]
     },
     "execution_count": 56,
     "metadata": {},
     "output_type": "execute_result"
    }
   ],
   "source": [
    "neighbourhood_no_show_occ = no_show_average(\"Neighbourhood\", df_mod).sort_values('No show average [%]', ascending=False)\n",
    "neighbourhood_no_show_occ.head()"
   ]
  },
  {
   "cell_type": "code",
   "execution_count": 57,
   "id": "f47a294f-a0fb-45b9-91e4-af57400b984f",
   "metadata": {},
   "outputs": [
    {
     "data": {
      "text/html": [
       "<div>\n",
       "<style scoped>\n",
       "    .dataframe tbody tr th:only-of-type {\n",
       "        vertical-align: middle;\n",
       "    }\n",
       "\n",
       "    .dataframe tbody tr th {\n",
       "        vertical-align: top;\n",
       "    }\n",
       "\n",
       "    .dataframe thead th {\n",
       "        text-align: right;\n",
       "    }\n",
       "</style>\n",
       "<table border=\"1\" class=\"dataframe\">\n",
       "  <thead>\n",
       "    <tr style=\"text-align: right;\">\n",
       "      <th></th>\n",
       "      <th>No show average [%]</th>\n",
       "      <th>Count</th>\n",
       "    </tr>\n",
       "    <tr>\n",
       "      <th>Neighbourhood</th>\n",
       "      <th></th>\n",
       "      <th></th>\n",
       "    </tr>\n",
       "  </thead>\n",
       "  <tbody>\n",
       "    <tr>\n",
       "      <th>SOLON BORGES</th>\n",
       "      <td>14.71</td>\n",
       "      <td>46900</td>\n",
       "    </tr>\n",
       "    <tr>\n",
       "      <th>MÁRIO CYPRESTE</th>\n",
       "      <td>14.56</td>\n",
       "      <td>37100</td>\n",
       "    </tr>\n",
       "    <tr>\n",
       "      <th>AEROPORTO</th>\n",
       "      <td>12.50</td>\n",
       "      <td>800</td>\n",
       "    </tr>\n",
       "    <tr>\n",
       "      <th>ILHA DO BOI</th>\n",
       "      <td>8.57</td>\n",
       "      <td>3500</td>\n",
       "    </tr>\n",
       "    <tr>\n",
       "      <th>PARQUE INDUSTRIAL</th>\n",
       "      <td>0.00</td>\n",
       "      <td>100</td>\n",
       "    </tr>\n",
       "  </tbody>\n",
       "</table>\n",
       "</div>"
      ],
      "text/plain": [
       "                   No show average [%]  Count\n",
       "Neighbourhood                                \n",
       "SOLON BORGES                     14.71  46900\n",
       "MÁRIO CYPRESTE                   14.56  37100\n",
       "AEROPORTO                        12.50    800\n",
       "ILHA DO BOI                       8.57   3500\n",
       "PARQUE INDUSTRIAL                 0.00    100"
      ]
     },
     "execution_count": 57,
     "metadata": {},
     "output_type": "execute_result"
    }
   ],
   "source": [
    "neighbourhood_no_show_occ.tail()"
   ]
  },
  {
   "cell_type": "code",
   "execution_count": 58,
   "id": "656c41f8-a924-4680-b100-18c3a489db2c",
   "metadata": {},
   "outputs": [
    {
     "data": {
      "image/png": "[encoded data removed]",
      "text/plain": [
       "<Figure size 720x1296 with 2 Axes>"
      ]
     },
     "metadata": {
      "needs_background": "light"
     },
     "output_type": "display_data"
    }
   ],
   "source": [
    "fig, (ax0, ax1) = plt.subplots(ncols=2, figsize=(10, 18), sharey=True)\n",
    "ax0.set_xlabel('No show rate [%]')\n",
    "ax1.set_xlabel('Number of appointments [-]')\n",
    "neighbourhood_no_show_occ['No show average [%]'].plot(kind='barh', ax=ax0, grid=True, title='No show rate [%]')\n",
    "neighbourhood_no_show_occ['Count'].plot(kind='barh', ax=ax1, title='Number of appointments [-]', grid=True)\n",
    "plt.tight_layout();"
   ]
  },
  {
   "cell_type": "markdown",
   "id": "13c3b96d-056c-47c0-93e1-b48ed3a512c2",
   "metadata": {},
   "source": [
    "## No show rate of the most frequent patients"
   ]
  },
  {
   "cell_type": "code",
   "execution_count": 59,
   "id": "892f5dcd-34a7-4bd1-8dba-a65b863e4da2",
   "metadata": {},
   "outputs": [
    {
     "data": {
      "text/html": [
       "<div>\n",
       "<style scoped>\n",
       "    .dataframe tbody tr th:only-of-type {\n",
       "        vertical-align: middle;\n",
       "    }\n",
       "\n",
       "    .dataframe tbody tr th {\n",
       "        vertical-align: top;\n",
       "    }\n",
       "\n",
       "    .dataframe thead th {\n",
       "        text-align: right;\n",
       "    }\n",
       "</style>\n",
       "<table border=\"1\" class=\"dataframe\">\n",
       "  <thead>\n",
       "    <tr style=\"text-align: right;\">\n",
       "      <th></th>\n",
       "      <th>PatientId</th>\n",
       "      <th>AppointmentID</th>\n",
       "      <th>Gender</th>\n",
       "      <th>ScheduledDay</th>\n",
       "      <th>Age</th>\n",
       "      <th>Neighbourhood</th>\n",
       "      <th>Scholarship</th>\n",
       "      <th>Hipertension</th>\n",
       "      <th>Diabetes</th>\n",
       "      <th>Alcoholism</th>\n",
       "      <th>Handcap</th>\n",
       "      <th>SMS_received</th>\n",
       "      <th>no_show</th>\n",
       "      <th>health_index</th>\n",
       "      <th>age_grouped</th>\n",
       "      <th>weekday</th>\n",
       "      <th>morning</th>\n",
       "    </tr>\n",
       "  </thead>\n",
       "  <tbody>\n",
       "    <tr>\n",
       "      <th>218</th>\n",
       "      <td>8.485848e+14</td>\n",
       "      <td>5559082</td>\n",
       "      <td>F</td>\n",
       "      <td>2016-04-08 07:21:44+00:00</td>\n",
       "      <td>59</td>\n",
       "      <td>ANDORINHAS</td>\n",
       "      <td>False</td>\n",
       "      <td>True</td>\n",
       "      <td>False</td>\n",
       "      <td>False</td>\n",
       "      <td>False</td>\n",
       "      <td>True</td>\n",
       "      <td>False</td>\n",
       "      <td>1</td>\n",
       "      <td>Adults</td>\n",
       "      <td>4</td>\n",
       "      <td>True</td>\n",
       "    </tr>\n",
       "    <tr>\n",
       "      <th>611</th>\n",
       "      <td>6.932219e+13</td>\n",
       "      <td>5634230</td>\n",
       "      <td>M</td>\n",
       "      <td>2016-04-28 10:36:19+00:00</td>\n",
       "      <td>33</td>\n",
       "      <td>ESTRELINHA</td>\n",
       "      <td>False</td>\n",
       "      <td>False</td>\n",
       "      <td>False</td>\n",
       "      <td>True</td>\n",
       "      <td>False</td>\n",
       "      <td>False</td>\n",
       "      <td>False</td>\n",
       "      <td>1</td>\n",
       "      <td>Adults</td>\n",
       "      <td>3</td>\n",
       "      <td>True</td>\n",
       "    </tr>\n",
       "  </tbody>\n",
       "</table>\n",
       "</div>"
      ],
      "text/plain": [
       "        PatientId  AppointmentID Gender              ScheduledDay  Age  \\\n",
       "218  8.485848e+14        5559082      F 2016-04-08 07:21:44+00:00   59   \n",
       "611  6.932219e+13        5634230      M 2016-04-28 10:36:19+00:00   33   \n",
       "\n",
       "    Neighbourhood  Scholarship  Hipertension  Diabetes  Alcoholism Handcap  \\\n",
       "218    ANDORINHAS        False          True     False       False   False   \n",
       "611    ESTRELINHA        False         False     False        True   False   \n",
       "\n",
       "     SMS_received  no_show  health_index age_grouped  weekday  morning  \n",
       "218          True    False             1      Adults        4     True  \n",
       "611         False    False             1      Adults        3     True  "
      ]
     },
     "execution_count": 59,
     "metadata": {},
     "output_type": "execute_result"
    }
   ],
   "source": [
    "most_freq_patients_ids = df_mod['PatientId'].value_counts().iloc[:100].index\n",
    "most_frequent_patients = df_mod[df['PatientId'].isin(most_freq_patients_ids)]\n",
    "most_frequent_patients.head(2)"
   ]
  },
  {
   "cell_type": "code",
   "execution_count": 60,
   "id": "26913b62-2eb5-45be-a92c-e1c6269d04e0",
   "metadata": {},
   "outputs": [
    {
     "data": {
      "text/plain": [
       "0.12538226299694188"
      ]
     },
     "execution_count": 60,
     "metadata": {},
     "output_type": "execute_result"
    }
   ],
   "source": [
    "most_frequent_patients['no_show'].mean()"
   ]
  },
  {
   "cell_type": "markdown",
   "id": "45ad89b6-1231-4a53-992a-48bbe9a5b00a",
   "metadata": {},
   "source": [
    "The 100 patients with more appointments have a no-show rate of 12.54%, significantly lower respect the whole patients community (about 20%)."
   ]
  },
  {
   "cell_type": "markdown",
   "id": "62b8d60c-3f18-4aac-9f27-5a90eefe3ad9",
   "metadata": {},
   "source": [
    "## Conclusions"
   ]
  },
  {
   "cell_type": "markdown",
   "id": "c4df5e82-c86b-44af-96e3-c4ac7dd5c4fc",
   "metadata": {},
   "source": [
    "While the gender and the presence/absence of some health issues appear to have a small/negligible impact on the no-show rate, it is possible to say that:\n",
    "\n",
    "* Highly educated patients have a slightly higher tendency to miss an appointment\n",
    "* A bit surprisingly the SMS reminder has negative correlation with the no-show occurrence\n",
    "* The appointment weekday seems to be not relevant excluding Saturday: the no-show rate on Saturdays is quite low (even though the number of appointments is low as well)\n",
    "* Finally, older patients have the tendency to show-up more frequently"
   ]
  },
  {
   "cell_type": "markdown",
   "id": "798fc84e-9854-49a7-bb43-812527610214",
   "metadata": {},
   "source": [
    "# Features crosscheck "
   ]
  },
  {
   "cell_type": "markdown",
   "id": "f3dc0277-76e3-44ce-8e83-304cd7892882",
   "metadata": {},
   "source": [
    "A visual representation of the combined impact of the `SMS_received`, `weekday` and `age_grouped` features is reported below. The first plot shows the no-show rate while the second one the no-show count."
   ]
  },
  {
   "cell_type": "code",
   "execution_count": 63,
   "id": "8f3fb02b-7790-4f7f-8709-3b3e371d46d9",
   "metadata": {},
   "outputs": [
    {
     "data": {
      "text/html": [
       "<iframe\n",
       "    scrolling=\"no\"\n",
       "    width=\"1220px\"\n",
       "    height=\"620\"\n",
       "    src=\"iframe_figures/figure_63.html\"\n",
       "    frameborder=\"0\"\n",
       "    allowfullscreen\n",
       "></iframe>\n"
      ]
     },
     "metadata": {},
     "output_type": "display_data"
    }
   ],
   "source": [
    "fig = px.histogram(df_mod,\n",
    "                   y = 'no_show',\n",
    "                   histnorm = 'percent',\n",
    "                   orientation='h',\n",
    "                   width=1200,\n",
    "                   height=600,\n",
    "                   color='SMS_received',\n",
    "                   facet_col='weekday',\n",
    "                   facet_row='age_grouped',\n",
    "                   barmode='group',\n",
    "                   text_auto='.1f',\n",
    "                   category_orders=dict(weekday=[0, 1, 2, 3, 4, 5], age_grouped=['Young', 'Adults', 'Elderly']),\n",
    "                   labels={'no_show': 'No Show', 'age_grouped': 'Age'},\n",
    "                   title='Combined impact (expressed as no show rate) of SMS received, eekday and age features'\n",
    "                  )\n",
    "\n",
    "fig.show()"
   ]
  },
  {
   "cell_type": "code",
   "execution_count": 64,
   "id": "c03e186c-6f3f-4d11-aa37-37ccc0e94319",
   "metadata": {},
   "outputs": [
    {
     "data": {
      "text/html": [
       "<iframe\n",
       "    scrolling=\"no\"\n",
       "    width=\"1220px\"\n",
       "    height=\"620\"\n",
       "    src=\"iframe_figures/figure_64.html\"\n",
       "    frameborder=\"0\"\n",
       "    allowfullscreen\n",
       "></iframe>\n"
      ]
     },
     "metadata": {},
     "output_type": "display_data"
    }
   ],
   "source": [
    "fig = px.histogram(df_mod,\n",
    "                   y = 'no_show',\n",
    "                   orientation='h',\n",
    "                   width=1200,\n",
    "                   height=600,\n",
    "                   color='SMS_received',\n",
    "                   facet_col='weekday',\n",
    "                   facet_row='age_grouped',\n",
    "                   barmode='group',\n",
    "                   text_auto=True,\n",
    "                   category_orders=dict(weekday=[0, 1, 2, 3, 4, 5], age_grouped=['Young', 'Adults', 'Elderly']),\n",
    "                   labels={'no_show': 'No Show', 'age_grouped': 'Age'},\n",
    "                   title='Combined impact (expressed in number of occurrances) of SMS received, eekday and age features'\n",
    "                  )\n",
    "\n",
    "fig.show()"
   ]
  },
  {
   "cell_type": "markdown",
   "id": "fe84557c-4849-41bb-aead-4b351e1e0b67",
   "metadata": {},
   "source": [
    "# Overall conclusions "
   ]
  },
  {
   "cell_type": "markdown",
   "id": "a820b501-d666-4bfb-ba32-28d04ae48e7b",
   "metadata": {},
   "source": [
    "In order to reduce the no show rate it is possible to suggest:\n",
    "\n",
    "* Understand why young/adult patients are more likely to miss an appointment. One potential explanation might be the necessity to go to work or take care of other family members: offering more appointments outside typical working hours may help.  \n",
    "* Similarly to the previous conclusion offering more appointments in Saturdays should be considered  \n",
    "* The SMS reminder campaign seems to be ineffective, it should be further investigated why  \n",
    "* On average gender, pre-existing heath issues and offering an appointment in the mornings or afternoons do not significantly affect the no-show rate  "
   ]
  },
  {
   "cell_type": "markdown",
   "id": "27572bf8-678f-473c-ab18-fb16d10e01f3",
   "metadata": {},
   "source": [
    "# Dataset limitations and possible follow-up work"
   ]
  },
  {
   "cell_type": "markdown",
   "id": "08dc2c11-06df-4e36-a0a3-2e1a74181aaa",
   "metadata": {},
   "source": [
    "The dataset provided, although well structured, organized and without missing/duplicated data, does not give us:\n",
    "* specific information about the type of medical appointment: are patients skipping “less relevant” appointments related to minor (or perceived as minor) health issues? \n",
    "* any potential indication behind a no-show, the intake questionnaire may be updated including a question about previous no-show events\n",
    "* information about the possibility to reach the hospital with a private car, this can help in understanding if public transportation is an issue or not\n"
   ]
  },
  {
   "cell_type": "markdown",
   "id": "3b64b36a-312b-4a26-9331-21154e147ab6",
   "metadata": {},
   "source": [
    "With more time and resources it could be interesting to perform the following additional activities:"
   ]
  },
  {
   "cell_type": "markdown",
   "id": "8a899117-71f8-4b5f-85cd-90d00dee4377",
   "metadata": {},
   "source": [
    "* Cross-correlate the neighborhood with the local income and distance respect the nearest hospitals"
   ]
  }
 ],
 "metadata": {
  "kernelspec": {
   "display_name": "Python 3 (ipykernel)",
   "language": "python",
   "name": "python3"
  },
  "language_info": {
   "codemirror_mode": {
    "name": "ipython",
    "version": 3
   },
   "file_extension": ".py",
   "mimetype": "text/x-python",
   "name": "python",
   "nbconvert_exporter": "python",
   "pygments_lexer": "ipython3",
   "version": "3.9.7"
  },
  "toc-autonumbering": true
 },
 "nbformat": 4,
 "nbformat_minor": 5
}
