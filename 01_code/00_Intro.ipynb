{
 "cells": [
  {
   "cell_type": "markdown",
   "id": "4b3ff051-8940-42d8-98c0-63f5fd241907",
   "metadata": {},
   "source": [
    "## Introduction "
   ]
  },
  {
   "cell_type": "markdown",
   "id": "87ee3aa4-6a8c-4bb2-ac23-e12486758877",
   "metadata": {},
   "source": [
    "This dataset collects information from 100k medical appointments in Brazil and is focused on the question of whether or not patients show up for their appointment. A number of characteristics about the patient are included in each row.\n",
    "\n",
    "* __ScheduledDay__ tells us on what day the patient set up their appointment.\n",
    "* __Neighborhood__ indicates the location of the hospital.\n",
    "* __Scholarship__ indicates whether or not the patient is enrolled in Brasilian welfare program Bolsa Família.\n",
    "* Be careful about the encoding of the last column: it says ‘No’ if the patient showed up to their appointment, and ‘Yes’ if they did not show up.\n"
   ]
  },
  {
   "cell_type": "markdown",
   "id": "554985c4-c417-4974-9b91-36ddb93df126",
   "metadata": {},
   "source": [
    "## Typical questions"
   ]
  },
  {
   "cell_type": "markdown",
   "id": "6af8bf1d-e47b-4fc5-9169-d414bf575eb8",
   "metadata": {},
   "source": [
    "1. What factors are important for us to know in order to predict if a patient will show up for their scheduled appointment?\n",
    "2. How many appointments per patient on average"
   ]
  },
  {
   "cell_type": "markdown",
   "id": "421e6258-3f69-47ad-b78f-58b42d891ab0",
   "metadata": {},
   "source": [
    "## Project evaluation"
   ]
  },
  {
   "cell_type": "markdown",
   "id": "930a269d-7339-4bd5-9441-ddb80458d95d",
   "metadata": {},
   "source": [
    "Link to [Rubrics](https://review.udacity.com/#!/rubrics/107/view) criteria"
   ]
  }
 ],
 "metadata": {
  "kernelspec": {
   "display_name": "Python 3 (ipykernel)",
   "language": "python",
   "name": "python3"
  },
  "language_info": {
   "codemirror_mode": {
    "name": "ipython",
    "version": 3
   },
   "file_extension": ".py",
   "mimetype": "text/x-python",
   "name": "python",
   "nbconvert_exporter": "python",
   "pygments_lexer": "ipython3",
   "version": "3.9.7"
  }
 },
 "nbformat": 4,
 "nbformat_minor": 5
}
